{
 "cells": [
  {
   "cell_type": "code",
   "execution_count": 2,
   "id": "37007e7a-dfc0-4d52-9116-84069f36e035",
   "metadata": {},
   "outputs": [],
   "source": [
    "import tensorflow as tf\n",
    "from tensorflow.keras.preprocessing.image import ImageDataGenerator\n",
    "from tensorflow.keras.applications import MobileNetV2\n",
    "from tensorflow.keras import layers, models"
   ]
  },
  {
   "cell_type": "code",
   "execution_count": 3,
   "id": "797658a8-b4a9-49d3-90a2-f59dbe58d2a2",
   "metadata": {},
   "outputs": [
    {
     "name": "stdout",
     "output_type": "stream",
     "text": [
      "Downloading data from https://storage.googleapis.com/tensorflow/keras-applications/mobilenet_v2/mobilenet_v2_weights_tf_dim_ordering_tf_kernels_1.0_224_no_top.h5\n",
      "\u001b[1m9406464/9406464\u001b[0m \u001b[32m━━━━━━━━━━━━━━━━━━━━\u001b[0m\u001b[37m\u001b[0m \u001b[1m1s\u001b[0m 0us/step\n"
     ]
    }
   ],
   "source": [
    "base_model = MobileNetV2(\n",
    "    weights='imagenet',\n",
    "    include_top=False, # excludes final classfication layer as we will add our own custom layer to classify the dogs\n",
    "    input_shape=(224, 224, 3) # expect images to be resized to 224 x 224, 3 color channels\n",
    ")"
   ]
  },
  {
   "cell_type": "code",
   "execution_count": 4,
   "id": "204842ce-63c7-4276-a4ae-9c636b0b05ca",
   "metadata": {},
   "outputs": [],
   "source": [
    "# the layers of the pre-trained model will not be updated during training\n",
    "# only train the new layers that are added on top\n",
    "base_model.trainable = False"
   ]
  },
  {
   "cell_type": "code",
   "execution_count": 8,
   "id": "2bd5e0f3-1c59-43b9-a917-17cd8b618624",
   "metadata": {},
   "outputs": [],
   "source": [
    "# adding custom layers\n",
    "model = models.Sequential([\n",
    "    base_model,\n",
    "    layers.GlobalAveragePooling2D(), # reduces the dimensions of the feature maps\n",
    "    layers.Dense(128, activation='relu'), # a fully connected layer with 128 units and a ReLU activation function\n",
    "    layers.Dense(2, activation='softmax')  # 2 classes: Dog 1 and Dog 2\n",
    "])"
   ]
  },
  {
   "cell_type": "code",
   "execution_count": 9,
   "id": "0e108d63-b7aa-44bb-9a28-6815fe25625b",
   "metadata": {},
   "outputs": [],
   "source": [
    "# Compile the model\n",
    "model.compile(optimizer='adam', loss='sparse_categorical_crossentropy', metrics=['accuracy'])"
   ]
  },
  {
   "cell_type": "code",
   "execution_count": 10,
   "id": "836f9101-712c-4a8a-aa49-16ec67e1e454",
   "metadata": {},
   "outputs": [],
   "source": [
    "# Preparing the Dataset Using ImageDataGenerator\n",
    "train_datagen = ImageDataGenerator(\n",
    "    rescale=1./255,\n",
    "    shear_range=0.2,\n",
    "    zoom_range=0.2,\n",
    "    horizontal_flip=True\n",
    ")"
   ]
  },
  {
   "cell_type": "code",
   "execution_count": null,
   "id": "75ce344d-6c95-499b-9315-cfac3c402bf9",
   "metadata": {},
   "outputs": [],
   "source": []
  }
 ],
 "metadata": {
  "kernelspec": {
   "display_name": "GepperPinger (venv)",
   "language": "python",
   "name": "venv"
  },
  "language_info": {
   "codemirror_mode": {
    "name": "ipython",
    "version": 3
   },
   "file_extension": ".py",
   "mimetype": "text/x-python",
   "name": "python",
   "nbconvert_exporter": "python",
   "pygments_lexer": "ipython3",
   "version": "3.12.0"
  }
 },
 "nbformat": 4,
 "nbformat_minor": 5
}
