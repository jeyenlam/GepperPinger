{
 "cells": [
  {
   "cell_type": "code",
   "execution_count": 1,
   "id": "0ce91107-1639-4850-935c-3be2deabeaf6",
   "metadata": {},
   "outputs": [],
   "source": [
    "import cv2\n",
    "import numpy as np\n",
    "import os"
   ]
  },
  {
   "cell_type": "code",
   "execution_count": 2,
   "id": "a87dc8f6-8b59-4596-858c-75f3276ec763",
   "metadata": {},
   "outputs": [
    {
     "ename": "error",
     "evalue": "OpenCV(4.11.0) D:\\a\\opencv-python\\opencv-python\\opencv\\modules\\dnn\\src\\darknet\\darknet_importer.cpp:210: error: (-212:Parsing error) Failed to open NetParameter file: yolov3.cfg in function 'cv::dnn::dnn4_v20241223::readNetFromDarknet'\n",
     "output_type": "error",
     "traceback": [
      "\u001b[31m---------------------------------------------------------------------------\u001b[39m",
      "\u001b[31merror\u001b[39m                                     Traceback (most recent call last)",
      "\u001b[36mCell\u001b[39m\u001b[36m \u001b[39m\u001b[32mIn[2]\u001b[39m\u001b[32m, line 2\u001b[39m\n\u001b[32m      1\u001b[39m \u001b[38;5;66;03m# Load YOLO model files\u001b[39;00m\n\u001b[32m----> \u001b[39m\u001b[32m2\u001b[39m yolo_net = \u001b[43mcv2\u001b[49m\u001b[43m.\u001b[49m\u001b[43mdnn\u001b[49m\u001b[43m.\u001b[49m\u001b[43mreadNet\u001b[49m\u001b[43m(\u001b[49m\u001b[33;43m\"\u001b[39;49m\u001b[33;43myolov3.weights\u001b[39;49m\u001b[33;43m\"\u001b[39;49m\u001b[43m,\u001b[49m\u001b[43m \u001b[49m\u001b[33;43m\"\u001b[39;49m\u001b[33;43myolov3.cfg\u001b[39;49m\u001b[33;43m\"\u001b[39;49m\u001b[43m)\u001b[49m\n\u001b[32m      3\u001b[39m layer_names = yolo_net.getLayerNames()\n\u001b[32m      4\u001b[39m output_layers = [layer_names[i - \u001b[32m1\u001b[39m] \u001b[38;5;28;01mfor\u001b[39;00m i \u001b[38;5;129;01min\u001b[39;00m yolo_net.getUnconnectedOutLayers()]\n",
      "\u001b[31merror\u001b[39m: OpenCV(4.11.0) D:\\a\\opencv-python\\opencv-python\\opencv\\modules\\dnn\\src\\darknet\\darknet_importer.cpp:210: error: (-212:Parsing error) Failed to open NetParameter file: yolov3.cfg in function 'cv::dnn::dnn4_v20241223::readNetFromDarknet'\n"
     ]
    }
   ],
   "source": [
    "# Load YOLO model files\n",
    "yolo_net = cv2.dnn.readNet(\"yolov3.weights\", \"yolov3.cfg\")\n",
    "layer_names = yolo_net.getLayerNames()\n",
    "output_layers = [layer_names[i - 1] for i in yolo_net.getUnconnectedOutLayers()]"
   ]
  },
  {
   "cell_type": "code",
   "execution_count": null,
   "id": "46028974-de1e-435a-bcb6-a095f23f92a6",
   "metadata": {},
   "outputs": [],
   "source": [
    "# Load the class names (COCO dataset contains a 'dog' class)\n",
    "with open(\"coco.names\", \"r\") as f:\n",
    "    classes = [line.strip() for line in f.readlines()]"
   ]
  },
  {
   "cell_type": "code",
   "execution_count": null,
   "id": "6c04ea73-d196-4987-8464-3033fd40a660",
   "metadata": {},
   "outputs": [],
   "source": [
    "# Function to detect dog in an image\n",
    "def detect_and_crop_dog(image_path, output_path):\n",
    "    # Load image\n",
    "    img = cv2.imread(image_path)\n",
    "    height, width, channels = img.shape\n",
    "\n",
    "    # Prepare the image for YOLO\n",
    "    blob = cv2.dnn.blobFromImage(img, 0.00392, (416, 416), (0, 0, 0), True, crop=False)\n",
    "    yolo_net.setInput(blob)\n",
    "    outputs = yolo_net.forward(output_layers)\n",
    "\n",
    "    # Process YOLO outputs\n",
    "    for out in outputs:\n",
    "        for detection in out:\n",
    "            scores = detection[5:]\n",
    "            class_id = np.argmax(scores)\n",
    "            confidence = scores[class_id]\n",
    "            \n",
    "            # If dog (class_id = 16 in COCO dataset) is detected with high confidence\n",
    "            if confidence > 0.5 and classes[class_id] == \"dog\":\n",
    "                # Get the bounding box coordinates\n",
    "                center_x = int(detection[0] * width)\n",
    "                center_y = int(detection[1] * height)\n",
    "                w = int(detection[2] * width)\n",
    "                h = int(detection[3] * height)\n",
    "\n",
    "                # Rectangle coordinates for cropping\n",
    "                x = int(center_x - w / 2)\n",
    "                y = int(center_y - h / 2)\n",
    "\n",
    "                # Crop the image around the dog\n",
    "                cropped_img = img[y:y + h, x:x + w]\n",
    "\n",
    "                # Save the cropped image\n",
    "                cv2.imwrite(output_path, cropped_img)\n",
    "                print(f\"Cropped image saved at {output_path}\")\n",
    "                return\n",
    "\n",
    "    print(f\"No dog detected in {image_path}.\")"
   ]
  },
  {
   "cell_type": "code",
   "execution_count": null,
   "id": "f856c8aa-2ad3-45a9-9e4b-fb583ed511e6",
   "metadata": {},
   "outputs": [],
   "source": [
    "# Process all images in the './data/train/ginger/' directory\n",
    "input_dir = os.path.abspath('./data/train/ginger/')\n",
    "output_dir = os.path.abspath('./data/train/ginger/cropped/')\n",
    "\n",
    "# Create output directory if it doesn't exist\n",
    "if not os.path.exists(output_dir):\n",
    "    os.makedirs(output_dir)"
   ]
  },
  {
   "cell_type": "code",
   "execution_count": null,
   "id": "0ebc441f-2513-4c2f-8977-b0224b362fee",
   "metadata": {},
   "outputs": [],
   "source": [
    "# Loop through all files in the directory and apply the cropping function\n",
    "for index, filename in enumerate(os.listdir(input_dir)):\n",
    "    if filename.endswith(\".jpg\"):\n",
    "        image_path = os.path.join(input_dir, filename)\n",
    "        output_path = os.path.join(output_dir, f\"ginger{index}.jpg\")\n",
    "        \n",
    "        # Apply the cropping function\n",
    "        detect_and_crop_dog(image_path, output_path)\n",
    "\n",
    "print(\"All images processed.\")"
   ]
  }
 ],
 "metadata": {
  "kernelspec": {
   "display_name": "GepperPinger (venv)",
   "language": "python",
   "name": "venv"
  },
  "language_info": {
   "codemirror_mode": {
    "name": "ipython",
    "version": 3
   },
   "file_extension": ".py",
   "mimetype": "text/x-python",
   "name": "python",
   "nbconvert_exporter": "python",
   "pygments_lexer": "ipython3",
   "version": "3.12.0"
  }
 },
 "nbformat": 4,
 "nbformat_minor": 5
}
