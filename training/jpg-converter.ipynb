{
 "cells": [
  {
   "cell_type": "code",
   "execution_count": 2,
   "id": "72d869b9-814e-43a7-a70f-05f82710482a",
   "metadata": {},
   "outputs": [],
   "source": [
    "import os\n",
    "from PIL import Image\n",
    "import pillow_heif\n",
    "import subprocess"
   ]
  },
  {
   "cell_type": "code",
   "execution_count": 3,
   "id": "b8a35604-fbba-43fb-9cd7-b42b28b007ab",
   "metadata": {},
   "outputs": [
    {
     "name": "stdout",
     "output_type": "stream",
     "text": [
      "done\n"
     ]
    }
   ],
   "source": [
    "input_dir =  os.path.abspath('./data/test/pepper/')\n",
    "\n",
    "convert_path = r'C:\\Program Files\\ImageMagick-7.1.1-Q16-HDRI\\magick.exe'  # Adjust this path if necessary\n",
    "\n",
    "# Loop through all files in the directory\n",
    "for index, filename in enumerate(os.listdir(input_dir)):\n",
    "    if filename.endswith(\".HEIC\") or filename.endswith(\".JPG\") or filename.endswith(\".JPEG\") or filename.endswith(\".PNG\"):  # Check if the file has a .heic extension\n",
    "        heic_file_path = os.path.join(input_dir, filename)\n",
    "        output_file_path = os.path.join(input_dir, f\"{index}.jpg\")\n",
    "        \n",
    "        # Use ImageMagick to convert the HEIC file to JPEG\n",
    "        subprocess.run([convert_path, heic_file_path, output_file_path], check=True)\n",
    "print('done')"
   ]
  },
  {
   "cell_type": "code",
   "execution_count": null,
   "id": "bb0f4368-d293-4bef-9000-31ec87ba65c0",
   "metadata": {},
   "outputs": [],
   "source": []
  }
 ],
 "metadata": {
  "kernelspec": {
   "display_name": "ganlab (venv)",
   "language": "python",
   "name": "venv"
  },
  "language_info": {
   "codemirror_mode": {
    "name": "ipython",
    "version": 3
   },
   "file_extension": ".py",
   "mimetype": "text/x-python",
   "name": "python",
   "nbconvert_exporter": "python",
   "pygments_lexer": "ipython3",
   "version": "3.12.0"
  }
 },
 "nbformat": 4,
 "nbformat_minor": 5
}
